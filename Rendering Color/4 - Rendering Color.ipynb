{
 "cells": [
  {
   "cell_type": "markdown",
   "metadata": {},
   "source": [
    "# Rendering Color"
   ]
  },
  {
   "cell_type": "code",
   "execution_count": 2,
   "metadata": {},
   "outputs": [],
   "source": [
    "import numpy as np\n",
    "import matplotlib.pyplot as plt\n",
    "import pandas as pd\n",
    "from scipy import interpolate"
   ]
  },
  {
   "cell_type": "markdown",
   "metadata": {},
   "source": [
    "### Function to calculate digital numbers (rgb) for each camera"
   ]
  },
  {
   "cell_type": "code",
   "execution_count": 3,
   "metadata": {},
   "outputs": [],
   "source": [
    "def DN(light,camera,reflectance):\n",
    "    R_cam = camera[1].values\n",
    "    G_cam = camera[2].values\n",
    "    B_cam = camera[3].values\n",
    "    \n",
    "    DNR = 255*np.sum(source*reflectance*R_cam)/np.sum(source*R_cam)\n",
    "    DNG = 255*np.sum(source*reflectance*G_cam)/np.sum(source*G_cam)\n",
    "    DNB = 255*np.sum(source*reflectance*B_cam)/np.sum(source*B_cam)\n",
    "    \n",
    "    return np.array([np.round(DNR),np.round(DNG),np.round(DNB)])"
   ]
  },
  {
   "cell_type": "markdown",
   "metadata": {},
   "source": [
    "## Render color of color chart and leaves"
   ]
  },
  {
   "cell_type": "code",
   "execution_count": 4,
   "metadata": {},
   "outputs": [],
   "source": [
    "camera = pd.read_csv('camera6.csv',header=None)\n",
    "light = pd.read_csv('light.csv')\n",
    "reflectance = pd.read_csv('act3_data.csv')[6466:7104]\n",
    "white = pd.read_csv('act3_data.csv')[8404:9042]"
   ]
  },
  {
   "cell_type": "code",
   "execution_count": 5,
   "metadata": {},
   "outputs": [],
   "source": [
    "wavelengths1 = camera[0].values\n",
    "wavelengths2 = light['Wavelength'].values\n",
    "wavelengths3 = np.float_(reflectance['Vernier Format 2'].values)\n",
    "wavelengths4 = np.float_(white['Vernier Format 2'].values)"
   ]
  },
  {
   "cell_type": "code",
   "execution_count": 6,
   "metadata": {},
   "outputs": [],
   "source": [
    "f1 = interpolate.interp1d(wavelengths2,light['Intensity'].values)\n",
    "f2 = interpolate.interp1d(wavelengths3,np.float_(reflectance['Unnamed: 1'].values))\n",
    "f3 = interpolate.interp1d(wavelengths4,np.float_(white['Unnamed: 1'].values))"
   ]
  },
  {
   "cell_type": "code",
   "execution_count": 7,
   "metadata": {},
   "outputs": [],
   "source": [
    "source = f1(wavelengths1)\n",
    "color = f2(wavelengths1)\n",
    "White = f3(wavelengths1)"
   ]
  },
  {
   "cell_type": "code",
   "execution_count": 8,
   "metadata": {},
   "outputs": [],
   "source": [
    "ref = color/White\n",
    "ref = (ref-min(ref))/(max(ref)-min(ref))"
   ]
  },
  {
   "cell_type": "code",
   "execution_count": 9,
   "metadata": {},
   "outputs": [
    {
     "data": {
      "text/plain": [
       "array([202.5,  97.5, 123. ])"
      ]
     },
     "execution_count": 9,
     "metadata": {},
     "output_type": "execute_result"
    }
   ],
   "source": [
    "1.5*DN(light,camera,ref)"
   ]
  },
  {
   "cell_type": "markdown",
   "metadata": {},
   "source": [
    "## Render color of Macbeth chart"
   ]
  },
  {
   "cell_type": "code",
   "execution_count": 10,
   "metadata": {},
   "outputs": [],
   "source": [
    "macbeth = pd.read_csv('MacbethColorChecker.csv')\n",
    "wavelengths5 = macbeth['wavelength']\n",
    "functions = []\n",
    "\n",
    "for i in range(24):\n",
    "    functions.append(interpolate.interp1d(wavelengths5,macbeth[str(i+1)].values))"
   ]
  },
  {
   "cell_type": "code",
   "execution_count": 11,
   "metadata": {},
   "outputs": [],
   "source": [
    "color_chart = []\n",
    "\n",
    "for f in functions:\n",
    "    color_chart.append(f(wavelengths1))"
   ]
  },
  {
   "cell_type": "code",
   "execution_count": 12,
   "metadata": {},
   "outputs": [
    {
     "data": {
      "text/plain": [
       "array([24., 27., 27.])"
      ]
     },
     "execution_count": 12,
     "metadata": {},
     "output_type": "execute_result"
    }
   ],
   "source": [
    "3*DN(light,camera,color_chart[23])"
   ]
  }
 ],
 "metadata": {
  "kernelspec": {
   "display_name": "Python 3",
   "language": "python",
   "name": "python3"
  },
  "language_info": {
   "codemirror_mode": {
    "name": "ipython",
    "version": 3
   },
   "file_extension": ".py",
   "mimetype": "text/x-python",
   "name": "python",
   "nbconvert_exporter": "python",
   "pygments_lexer": "ipython3",
   "version": "3.6.7"
  }
 },
 "nbformat": 4,
 "nbformat_minor": 2
}
